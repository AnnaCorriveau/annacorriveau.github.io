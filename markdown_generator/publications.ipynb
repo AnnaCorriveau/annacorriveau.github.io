{
 "cells": [
  {
   "cell_type": "markdown",
   "metadata": {
    "deletable": true,
    "editable": true
   },
   "source": [
    "# Publications markdown generator for academicpages\n",
    "\n",
    "Takes a TSV of publications with metadata and converts them for use with [academicpages.github.io](academicpages.github.io). This is an interactive Jupyter notebook ([see more info here](http://jupyter-notebook-beginner-guide.readthedocs.io/en/latest/what_is_jupyter.html)). The core python code is also in `publications.py`. Run either from the `markdown_generator` folder after replacing `publications.tsv` with one containing your data.\n",
    "\n",
    "TODO: Make this work with BibTex and other databases of citations, rather than Stuart's non-standard TSV format and citation style.\n"
   ]
  },
  {
   "cell_type": "markdown",
   "metadata": {},
   "source": [
    "## Data format\n",
    "\n",
    "The TSV needs to have the following columns: pub_date, title, venue, excerpt, citation, site_url, and paper_url, with a header at the top. \n",
    "\n",
    "- `excerpt` and `paper_url` can be blank, but the others must have values. \n",
    "- `pub_date` must be formatted as YYYY-MM-DD.\n",
    "- `url_slug` will be the descriptive part of the .md file and the permalink URL for the page about the paper. The .md file will be `YYYY-MM-DD-[url_slug].md` and the permalink will be `https://[yourdomain]/publications/YYYY-MM-DD-[url_slug]`\n",
    "\n",
    "This is how the raw file looks (it doesn't look pretty, use a spreadsheet or other program to edit and create)."
   ]
  },
  {
   "cell_type": "code",
   "execution_count": 7,
   "metadata": {
    "collapsed": false
   },
   "outputs": [
    {
     "name": "stdout",
     "output_type": "stream",
     "text": [
      "pub_date,title,venue,excerpt,citation,url_slug,paper_url,slides_url,journal_url\n",
      "1/1/23,Sustained neural representations of personally familiar people and places during cued recall,Cortex,The recall and visualization of familiar people and places is an everyday occurrence but the neural mechanisms underlying this ability are not yet well-characterized. Using magnetoencephalography (MEG) and multivariate pattern analysis we investigate the time course of familiar people and place representations in the brain. We show that distinct representations emerge ~1000 ms after cur onset and remain stable over an extended recall period (4s).,\"Corriveau, A., Kidder, A., Teichmann, L., Wardle, S. G., & Baker, C. I. (2023). Sustained neural representations of personally familiar people and places during cued recall. Cortex, 158, 71–82.\",Sustained neural representations of personally familiar people and places during cued recall,http://annacorriveau.github.io/files/SustainedRepresentations_Cortex.pdf,,https://www.sciencedirect.com/science/article/pii/S0010945222002842\n",
      "4/15/23,Functional connectome stability and optimality are markers of cognitive performance,Cerebral Cortex,\"Whole-brain patterns of fMRI functional connectivity are highly unique to individuals but change characteristically during tasks. Here, we tested whether individuals with more stable, typical, optimal, and distinctive patterns of functional connectivity perform better on cognitive tasks. We find that individuals with more stable (within-subject similarity across runs) and optimal (similarity to a task-optimal pattern) task-based functional connectivity show higher performance on sustained attention and working memory tasks. \",\"Corriveau, A., Yoo, K., Kwon, Y. H., Chun, M. M., & Rosenberg, M. D. (2022). Functional connectome stability and optimality are markers of cognitive performance. Cerebral Cortex (New York, NY), 33(8), 5025–5041. https://doi.org/10.1093/cercor/bhac396\",Functional connectome stability and optimality are markers of cognitive performance,http://annacorriveau.github.io/files/FCStability_CerebralCortex.pdf,,https://academic.oup.com/cercor/article/33/8/5025/6833647\n",
      "9/16/24,Recognition memory fluctuates with sustained attention regardless of task relevance,Psychonomic Bulletin & Review,\"Fluctuations in sustained attention influence task-related processing and memory. However, it is less clear how attentional state affects memory for irrelevant visual information. Here, we demonstrate that high attention leads to better memory, not only for task-relevant stimuli, but also task-irrelevant stimuli presented during high attentional states. Finally, we show that sustained attention and selective attention contribute separately to recognition memory, suggesting they compose separate constructs of attention.  \",\"Corriveau, A., Chao, A. F., deBettencourt, M. T., & Rosenberg, M. D. (2024). Recognition memory fluctuates with sustained attention regardless of task relevance. Psychonomic Bulletin & Review. https://doi.org/10.3758/s13423-024-02560-x\",Recognition memory fluctuates with sustained attention regardless of task relevance,http://annacorriveau.github.io/files/SustainedAttention_RecognitionMemory_PBR.pdf,,https://link.springer.com/article/10.3758/s13423-024-02560-x\n",
      "3/20/25,Functional brain networks predicting sustained attention are not specific to perceptual modality,Network Neuroscience,\"Sustained attention is essential for daily life and can be directed to information from different perceptual modalities, including audition and vision. Prior work has shown strong generalization of models trained to predict individual differences in sustained attention performance from patterns of fMRI functional connectivity. However, it is an open question whether predictions of sustained attention are specific to the perceptual modality in which they are trained. We find that functional networks are largely modality general, with both model-unique and shared model features predicting sustained attention performance in independent datasets regardless of task modality. Results support the supposition that visual and auditory sustained attention rely on shared neural mechanisms and demonstrate robust generalizability of whole-brain functional network models of sustained attention.\",\"Corriveau, A., Ke, J., Terashima, H., Kondo, H. M., & Rosenberg, M. D. (2025). Functional brain networks predicting sustained attention are not specific to perceptual modality. Network Neuroscience, 9(1), 303–325. https://doi.org/10.1162/netn_a_00430\",Functional brain networks predicting sustained attention are not specific to perceptual modality,http://annacorriveau.github.io/files/netn_a_00430.pdf,,https://direct.mit.edu/netn/article/9/1/303/125503/Functional-brain-networks-predicting-sustained\n",
      "5/27/25,Sustained attentional state is a floodlight not a spotlight.,Journal of Experimental Psychology: General,\"Maintaining attention to a task is essential for accomplishing it. However, attentional state fluctuates from moment to moment, and task-irrelevant information may compete for processing. What are the consequences of attentional fluctuations for what we remember? Across individuals, we found no evidence of a trade-off between memory for task-relevant and task-irrelevant items. Within individuals, successful memory for a task-relevant item predicted successful memory for its task-irrelevant pair. Thus, the spotlight metaphor of attention does not extend to the dynamics of sustained attention. Rather, fluctuations in attention are more akin to a floodlight, affecting the processing of all task information, regardless of relevance.\",\"Corriveau, A., James, A. R., Jr., deBettencourt, M. T., & Rosenberg, M. D. (2025). Sustained attentional state is a floodlight not a spotlight. Journal of Experimental Psychology: General. Advance online publication. https://doi.org/10.1037/xge0001769\",Sustained attentional state is a floodlight not a spotlight.,http://annacorriveau.github.io/files/Corriveau-etal-JEPG-2025.pdf,,https://psycnet.apa.org/record/2026-15498-001"
     ]
    }
   ],
   "source": [
    "!cat publications.csv"
   ]
  },
  {
   "cell_type": "markdown",
   "metadata": {},
   "source": [
    "## Import pandas\n",
    "\n",
    "We are using the very handy pandas library for dataframes."
   ]
  },
  {
   "cell_type": "code",
   "execution_count": 8,
   "metadata": {
    "collapsed": true,
    "deletable": true,
    "editable": true
   },
   "outputs": [],
   "source": [
    "import pandas as pd"
   ]
  },
  {
   "cell_type": "markdown",
   "metadata": {},
   "source": [
    "## Import TSV\n",
    "\n",
    "Pandas makes this easy with the read_csv function. We are using a TSV, so we specify the separator as a tab, or `\\t`.\n",
    "\n",
    "I found it important to put this data in a tab-separated values format, because there are a lot of commas in this kind of data and comma-separated values can get messed up. However, you can modify the import statement, as pandas also has read_excel(), read_json(), and others."
   ]
  },
  {
   "cell_type": "code",
   "execution_count": 9,
   "metadata": {
    "collapsed": false,
    "deletable": true,
    "editable": true
   },
   "outputs": [
    {
     "data": {
      "text/html": [
       "<div>\n",
       "<style scoped>\n",
       "    .dataframe tbody tr th:only-of-type {\n",
       "        vertical-align: middle;\n",
       "    }\n",
       "\n",
       "    .dataframe tbody tr th {\n",
       "        vertical-align: top;\n",
       "    }\n",
       "\n",
       "    .dataframe thead th {\n",
       "        text-align: right;\n",
       "    }\n",
       "</style>\n",
       "<table border=\"1\" class=\"dataframe\">\n",
       "  <thead>\n",
       "    <tr style=\"text-align: right;\">\n",
       "      <th></th>\n",
       "      <th>pub_date</th>\n",
       "      <th>title</th>\n",
       "      <th>venue</th>\n",
       "      <th>excerpt</th>\n",
       "      <th>citation</th>\n",
       "      <th>url_slug</th>\n",
       "      <th>paper_url</th>\n",
       "      <th>slides_url</th>\n",
       "      <th>journal_url</th>\n",
       "    </tr>\n",
       "  </thead>\n",
       "  <tbody>\n",
       "    <tr>\n",
       "      <th>0</th>\n",
       "      <td>1/1/23</td>\n",
       "      <td>Sustained neural representations of personally...</td>\n",
       "      <td>Cortex</td>\n",
       "      <td>The recall and visualization of familiar peopl...</td>\n",
       "      <td>Corriveau, A., Kidder, A., Teichmann, L., Ward...</td>\n",
       "      <td>Sustained neural representations of personally...</td>\n",
       "      <td>http://annacorriveau.github.io/files/Sustained...</td>\n",
       "      <td>NaN</td>\n",
       "      <td>https://www.sciencedirect.com/science/article/...</td>\n",
       "    </tr>\n",
       "    <tr>\n",
       "      <th>1</th>\n",
       "      <td>4/15/23</td>\n",
       "      <td>Functional connectome stability and optimality...</td>\n",
       "      <td>Cerebral Cortex</td>\n",
       "      <td>Whole-brain patterns of fMRI functional connec...</td>\n",
       "      <td>Corriveau, A., Yoo, K., Kwon, Y. H., Chun, M. ...</td>\n",
       "      <td>Functional connectome stability and optimality...</td>\n",
       "      <td>http://annacorriveau.github.io/files/FCStabili...</td>\n",
       "      <td>NaN</td>\n",
       "      <td>https://academic.oup.com/cercor/article/33/8/5...</td>\n",
       "    </tr>\n",
       "    <tr>\n",
       "      <th>2</th>\n",
       "      <td>9/16/24</td>\n",
       "      <td>Recognition memory fluctuates with sustained a...</td>\n",
       "      <td>Psychonomic Bulletin &amp; Review</td>\n",
       "      <td>Fluctuations in sustained attention influence ...</td>\n",
       "      <td>Corriveau, A., Chao, A. F., deBettencourt, M. ...</td>\n",
       "      <td>Recognition memory fluctuates with sustained a...</td>\n",
       "      <td>http://annacorriveau.github.io/files/Sustained...</td>\n",
       "      <td>NaN</td>\n",
       "      <td>https://link.springer.com/article/10.3758/s134...</td>\n",
       "    </tr>\n",
       "    <tr>\n",
       "      <th>3</th>\n",
       "      <td>3/20/25</td>\n",
       "      <td>Functional brain networks predicting sustained...</td>\n",
       "      <td>Network Neuroscience</td>\n",
       "      <td>Sustained attention is essential for daily lif...</td>\n",
       "      <td>Corriveau, A., Ke, J., Terashima, H., Kondo, H...</td>\n",
       "      <td>Functional brain networks predicting sustained...</td>\n",
       "      <td>http://annacorriveau.github.io/files/netn_a_00...</td>\n",
       "      <td>NaN</td>\n",
       "      <td>https://direct.mit.edu/netn/article/9/1/303/12...</td>\n",
       "    </tr>\n",
       "    <tr>\n",
       "      <th>4</th>\n",
       "      <td>5/27/25</td>\n",
       "      <td>Sustained attentional state is a floodlight no...</td>\n",
       "      <td>Journal of Experimental Psychology: General</td>\n",
       "      <td>Maintaining attention to a task is essential f...</td>\n",
       "      <td>Corriveau, A., James, A. R., Jr., deBettencour...</td>\n",
       "      <td>Sustained attentional state is a floodlight no...</td>\n",
       "      <td>http://annacorriveau.github.io/files/Corriveau...</td>\n",
       "      <td>NaN</td>\n",
       "      <td>https://psycnet.apa.org/record/2026-15498-001</td>\n",
       "    </tr>\n",
       "  </tbody>\n",
       "</table>\n",
       "</div>"
      ],
      "text/plain": [
       "  pub_date                                              title  \\\n",
       "0   1/1/23  Sustained neural representations of personally...   \n",
       "1  4/15/23  Functional connectome stability and optimality...   \n",
       "2  9/16/24  Recognition memory fluctuates with sustained a...   \n",
       "3  3/20/25  Functional brain networks predicting sustained...   \n",
       "4  5/27/25  Sustained attentional state is a floodlight no...   \n",
       "\n",
       "                                         venue  \\\n",
       "0                                       Cortex   \n",
       "1                              Cerebral Cortex   \n",
       "2                Psychonomic Bulletin & Review   \n",
       "3                         Network Neuroscience   \n",
       "4  Journal of Experimental Psychology: General   \n",
       "\n",
       "                                             excerpt  \\\n",
       "0  The recall and visualization of familiar peopl...   \n",
       "1  Whole-brain patterns of fMRI functional connec...   \n",
       "2  Fluctuations in sustained attention influence ...   \n",
       "3  Sustained attention is essential for daily lif...   \n",
       "4  Maintaining attention to a task is essential f...   \n",
       "\n",
       "                                            citation  \\\n",
       "0  Corriveau, A., Kidder, A., Teichmann, L., Ward...   \n",
       "1  Corriveau, A., Yoo, K., Kwon, Y. H., Chun, M. ...   \n",
       "2  Corriveau, A., Chao, A. F., deBettencourt, M. ...   \n",
       "3  Corriveau, A., Ke, J., Terashima, H., Kondo, H...   \n",
       "4  Corriveau, A., James, A. R., Jr., deBettencour...   \n",
       "\n",
       "                                            url_slug  \\\n",
       "0  Sustained neural representations of personally...   \n",
       "1  Functional connectome stability and optimality...   \n",
       "2  Recognition memory fluctuates with sustained a...   \n",
       "3  Functional brain networks predicting sustained...   \n",
       "4  Sustained attentional state is a floodlight no...   \n",
       "\n",
       "                                           paper_url  slides_url  \\\n",
       "0  http://annacorriveau.github.io/files/Sustained...         NaN   \n",
       "1  http://annacorriveau.github.io/files/FCStabili...         NaN   \n",
       "2  http://annacorriveau.github.io/files/Sustained...         NaN   \n",
       "3  http://annacorriveau.github.io/files/netn_a_00...         NaN   \n",
       "4  http://annacorriveau.github.io/files/Corriveau...         NaN   \n",
       "\n",
       "                                         journal_url  \n",
       "0  https://www.sciencedirect.com/science/article/...  \n",
       "1  https://academic.oup.com/cercor/article/33/8/5...  \n",
       "2  https://link.springer.com/article/10.3758/s134...  \n",
       "3  https://direct.mit.edu/netn/article/9/1/303/12...  \n",
       "4      https://psycnet.apa.org/record/2026-15498-001  "
      ]
     },
     "execution_count": 9,
     "metadata": {},
     "output_type": "execute_result"
    }
   ],
   "source": [
    "publications = pd.read_csv(\"publications.csv\", sep=\",\", header=0)\n",
    "publications\n"
   ]
  },
  {
   "cell_type": "markdown",
   "metadata": {},
   "source": [
    "## Escape special characters\n",
    "\n",
    "YAML is very picky about how it takes a valid string, so we are replacing single and double quotes (and ampersands) with their HTML encoded equivilents. This makes them look not so readable in raw format, but they are parsed and rendered nicely."
   ]
  },
  {
   "cell_type": "code",
   "execution_count": 10,
   "metadata": {
    "collapsed": true,
    "deletable": true,
    "editable": true
   },
   "outputs": [],
   "source": [
    "html_escape_table = {\n",
    "    \"&\": \"&amp;\",\n",
    "    '\"': \"&quot;\",\n",
    "    \"'\": \"&apos;\"\n",
    "    }\n",
    "\n",
    "def html_escape(text):\n",
    "    \"\"\"Produce entities within text.\"\"\"\n",
    "    return \"\".join(html_escape_table.get(c,c) for c in text)"
   ]
  },
  {
   "cell_type": "markdown",
   "metadata": {},
   "source": [
    "## Creating the markdown files\n",
    "\n",
    "This is where the heavy lifting is done. This loops through all the rows in the TSV dataframe, then starts to concatentate a big string (```md```) that contains the markdown for each type. It does the YAML metadata first, then does the description for the individual page."
   ]
  },
  {
   "cell_type": "code",
   "execution_count": 15,
   "metadata": {
    "collapsed": false,
    "deletable": true,
    "editable": true
   },
   "outputs": [
    {
     "name": "stdout",
     "output_type": "stream",
     "text": [
      "pub_date                                                  1/1/23\n",
      "title          Sustained neural representations of personally...\n",
      "venue                                                     Cortex\n",
      "excerpt        The recall and visualization of familiar peopl...\n",
      "citation       Corriveau, A., Kidder, A., Teichmann, L., Ward...\n",
      "url_slug       Sustained neural representations of personally...\n",
      "paper_url      http://annacorriveau.github.io/files/Sustained...\n",
      "slides_url                                                   NaN\n",
      "journal_url    https://www.sciencedirect.com/science/article/...\n",
      "Name: 0, dtype: object\n",
      "pub_date                                                 4/15/23\n",
      "title          Functional connectome stability and optimality...\n",
      "venue                                            Cerebral Cortex\n",
      "excerpt        Whole-brain patterns of fMRI functional connec...\n",
      "citation       Corriveau, A., Yoo, K., Kwon, Y. H., Chun, M. ...\n",
      "url_slug       Functional connectome stability and optimality...\n",
      "paper_url      http://annacorriveau.github.io/files/FCStabili...\n",
      "slides_url                                                   NaN\n",
      "journal_url    https://academic.oup.com/cercor/article/33/8/5...\n",
      "Name: 1, dtype: object\n",
      "pub_date                                                 9/16/24\n",
      "title          Recognition memory fluctuates with sustained a...\n",
      "venue                              Psychonomic Bulletin & Review\n",
      "excerpt        Fluctuations in sustained attention influence ...\n",
      "citation       Corriveau, A., Chao, A. F., deBettencourt, M. ...\n",
      "url_slug       Recognition memory fluctuates with sustained a...\n",
      "paper_url      http://annacorriveau.github.io/files/Sustained...\n",
      "slides_url                                                   NaN\n",
      "journal_url    https://link.springer.com/article/10.3758/s134...\n",
      "Name: 2, dtype: object\n",
      "pub_date                                                 3/20/25\n",
      "title          Functional brain networks predicting sustained...\n",
      "venue                                       Network Neuroscience\n",
      "excerpt        Sustained attention is essential for daily lif...\n",
      "citation       Corriveau, A., Ke, J., Terashima, H., Kondo, H...\n",
      "url_slug       Functional brain networks predicting sustained...\n",
      "paper_url      http://annacorriveau.github.io/files/netn_a_00...\n",
      "slides_url                                                   NaN\n",
      "journal_url    https://direct.mit.edu/netn/article/9/1/303/12...\n",
      "Name: 3, dtype: object\n",
      "pub_date                                                 5/27/25\n",
      "title          Sustained attentional state is a floodlight no...\n",
      "venue                Journal of Experimental Psychology: General\n",
      "excerpt        Maintaining attention to a task is essential f...\n",
      "citation       Corriveau, A., James, A. R., Jr., deBettencour...\n",
      "url_slug       Sustained attentional state is a floodlight no...\n",
      "paper_url      http://annacorriveau.github.io/files/Corriveau...\n",
      "slides_url                                                   NaN\n",
      "journal_url        https://psycnet.apa.org/record/2026-15498-001\n",
      "Name: 4, dtype: object\n"
     ]
    }
   ],
   "source": [
    "import os\n",
    "for row, item in publications.iterrows():\n",
    "    print(item)\n",
    "    md_filename = str(item.pub_date) + \"-\" + item.url_slug + \".md\"\n",
    "    html_filename = str(item.pub_date) + \"-\" + item.url_slug\n",
    "    year = item.pub_date[:4]\n",
    "    \n",
    "    ## YAML variables\n",
    "    \n",
    "    md = \"---\\ntitle: \\\"\"   + item.title + '\"\\n'\n",
    "    \n",
    "    md += \"\"\"collection: publications\"\"\"\n",
    "    \n",
    "    md += \"\"\"\\npermalink: /publication/\"\"\" + html_filename\n",
    "    \n",
    "    if len(str(item.excerpt)) > 5:\n",
    "        md += \"\\nexcerpt: '\" + html_escape(item.excerpt) + \"'\"\n",
    "    \n",
    "    md += \"\\ndate: \" + str(item.pub_date) \n",
    "    \n",
    "    md += \"\\nvenue: '\" + html_escape(item.venue) + \"'\"\n",
    "    \n",
    "    if len(str(item.slides_url)) > 5:\n",
    "        md += \"\\nslidesurl: '\" + item.slides_url + \"'\"\n",
    "\n",
    "    if len(str(item.paper_url)) > 5:\n",
    "        md += \"\\npaperurl: '\" + item.paper_url + \"'\"\n",
    "    \n",
    "    md += \"\\ncitation: '\" + html_escape(item.citation) + \"'\"\n",
    "    \n",
    "    md += \"\\n---\"\n",
    "    \n",
    "    ## Markdown description for individual page\n",
    "        \n",
    "    if len(str(item.excerpt)) > 5:\n",
    "        md += \"\\n\" + html_escape(item.excerpt) + \"\\n\"\n",
    "\n",
    "    if len(str(item.slides_url)) > 5:\n",
    "        md += \"\\n[Download slides here](\" + item.slides_url + \")\\n\" \n",
    "\n",
    "    if len(str(item.paper_url)) > 5:\n",
    "        md += \"\\n[Download paper here](\" + item.paper_url + \")\\n\" \n",
    "        \n",
    "    md += \"\\nRecommended citation: \" + item.citation\n",
    "    \n",
    "    md_filename = os.path.basename(md_filename)\n",
    "       \n",
    "    with open(\"../_publications/\" + md_filename, 'w') as f:\n",
    "        f.write(md)"
   ]
  },
  {
   "cell_type": "markdown",
   "metadata": {},
   "source": [
    "These files are in the publications directory, one directory below where we're working from."
   ]
  },
  {
   "cell_type": "code",
   "execution_count": 13,
   "metadata": {
    "collapsed": false,
    "deletable": true,
    "editable": true
   },
   "outputs": [
    {
     "name": "stdout",
     "output_type": "stream",
     "text": [
      "2023-01-01-Sustained neural representations of personally familiar people and places during cued recall.md\n",
      "2023-04-15-Functional connectome stability and optimality are markers of cognitive performance.md\n",
      "2024-09-16-Recognition memory fluctuates with sustained attention regardless of task relevance.md\n",
      "23-Functional connectome stability and optimality are markers of cognitive performance.md\n",
      "23-Sustained neural representations of personally familiar people and places during cued recall.md\n",
      "24-Recognition memory fluctuates with sustained attention regardless of task relevance.md\n",
      "25-Functional brain networks predicting sustained attention are not specific to perceptual modality.md\n",
      "25-Sustained attentional state is a floodlight not a spotlight..md\n"
     ]
    }
   ],
   "source": [
    "!ls ../_publications/"
   ]
  },
  {
   "cell_type": "code",
   "execution_count": 14,
   "metadata": {
    "collapsed": false,
    "deletable": true,
    "editable": true
   },
   "outputs": [
    {
     "name": "stdout",
     "output_type": "stream",
     "text": [
      "cat: ../_publications/2009-10-01-paper-title-number-1.md: No such file or directory\n"
     ]
    }
   ],
   "source": [
    "!cat ../_publications/2009-10-01-paper-title-number-1.md"
   ]
  },
  {
   "cell_type": "code",
   "execution_count": null,
   "metadata": {
    "collapsed": true,
    "deletable": true,
    "editable": true
   },
   "outputs": [],
   "source": []
  }
 ],
 "metadata": {
  "kernelspec": {
   "display_name": "AVA_AC",
   "language": "python",
   "name": "python3"
  },
  "language_info": {
   "codemirror_mode": {
    "name": "ipython",
    "version": 3
   },
   "file_extension": ".py",
   "mimetype": "text/x-python",
   "name": "python",
   "nbconvert_exporter": "python",
   "pygments_lexer": "ipython3",
   "version": "3.10.9"
  }
 },
 "nbformat": 4,
 "nbformat_minor": 0
}
