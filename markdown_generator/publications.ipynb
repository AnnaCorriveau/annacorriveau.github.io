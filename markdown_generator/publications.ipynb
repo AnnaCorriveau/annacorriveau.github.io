{
 "cells": [
  {
   "cell_type": "markdown",
   "metadata": {
    "deletable": true,
    "editable": true
   },
   "source": [
    "# Publications markdown generator for academicpages\n",
    "\n",
    "Takes a TSV of publications with metadata and converts them for use with [academicpages.github.io](academicpages.github.io). This is an interactive Jupyter notebook ([see more info here](http://jupyter-notebook-beginner-guide.readthedocs.io/en/latest/what_is_jupyter.html)). The core python code is also in `publications.py`. Run either from the `markdown_generator` folder after replacing `publications.tsv` with one containing your data.\n",
    "\n",
    "TODO: Make this work with BibTex and other databases of citations, rather than Stuart's non-standard TSV format and citation style.\n"
   ]
  },
  {
   "cell_type": "markdown",
   "metadata": {},
   "source": [
    "## Data format\n",
    "\n",
    "The TSV needs to have the following columns: pub_date, title, venue, excerpt, citation, site_url, and paper_url, with a header at the top. \n",
    "\n",
    "- `excerpt` and `paper_url` can be blank, but the others must have values. \n",
    "- `pub_date` must be formatted as YYYY-MM-DD.\n",
    "- `url_slug` will be the descriptive part of the .md file and the permalink URL for the page about the paper. The .md file will be `YYYY-MM-DD-[url_slug].md` and the permalink will be `https://[yourdomain]/publications/YYYY-MM-DD-[url_slug]`\n",
    "\n",
    "This is how the raw file looks (it doesn't look pretty, use a spreadsheet or other program to edit and create)."
   ]
  },
  {
   "cell_type": "code",
   "execution_count": 6,
   "metadata": {
    "collapsed": false
   },
   "outputs": [
    {
     "name": "stdout",
     "output_type": "stream",
     "text": [
      "pub_date,title,venue,excerpt,citation,url_slug,paper_url,slides_url\n",
      "2023-01-01,Sustained neural representations of personally familiar people and places during cued recall,Cortex,The recall and visualization of familiar people and places is an everyday occurrence but the neural mechanisms underlying this ability are not yet well-characterized. Using magnetoencephalography (MEG) and multivariate pattern analysis we investigate the time course of familiar people and place representations in the brain. We show that distinct representations emerge ~1000 ms after cur onset and remain stable over an extended recall period (4s).,\"Corriveau, A., Kidder, A., Teichmann, L., Wardle, S. G., & Baker, C. I. (2023). Sustained neural representations of personally familiar people and places during cued recall. Cortex, 158, 71–82.\",SustainedRepresentations,http://annacorriveau.github.io/files/SustainedRepresentations_Cortex.pdf,\n",
      "2023-04-15,Functional connectome stability and optimality are markers of cognitive performance,Cerebral Cortex,\"Whole-brain patterns of fMRI functional connectivity are highly unique to individuals but change characteristically during tasks. Here, we tested whether individuals with more stable, typical, optimal, and distinctive patterns of functional connectivity perform better on cognitive tasks. We find that individuals with more stable (within-subject similarity across runs) and optimal (similarity to a task-optimal pattern) task-based functional connectivity show higher performance on sustained attention and working memory tasks. \",\"Corriveau, A., Yoo, K., Kwon, Y. H., Chun, M. M., & Rosenberg, M. D. (2022). Functional connectome stability and optimality are markers of cognitive performance. Cerebral Cortex (New York, NY), 33(8), 5025–5041. https://doi.org/10.1093/cercor/bhac396\",FCStability,http://annacorriveau.github.io/files/FCStability_CerebralCortex.pdf,\n",
      "2024-09-16,Recognition memory fluctuates with sustained attention regardless of task relevance,Psychonomic Bulletin & Review,\"Fluctuations in sustained attention influence task-related processing and memory. However, it is less clear how attentional state affects memory for irrelevant visual information. Here, we demonstrate that high attention leads to better memory, not only for task-relevant stimuli, but also task-irrelevant stimuli presented during high attentional states. Finally, we show that sustained attention and selective attention contribute separately to recognition memory, suggesting they compose separate constructs of attention.  \",\"Corriveau, A., Chao, A. F., deBettencourt, M. T., & Rosenberg, M. D. (2024). Recognition memory fluctuates with sustained attention regardless of task relevance. Psychonomic Bulletin & Review. https://doi.org/10.3758/s13423-024-02560-x\",RecognitionFlux,http://annacorriveau.github.io/files/SustainedAttention_RecognitionMemory_PBR.pdf,"
     ]
    }
   ],
   "source": [
    "!cat publications.csv"
   ]
  },
  {
   "cell_type": "markdown",
   "metadata": {},
   "source": [
    "## Import pandas\n",
    "\n",
    "We are using the very handy pandas library for dataframes."
   ]
  },
  {
   "cell_type": "code",
   "execution_count": 7,
   "metadata": {
    "collapsed": true,
    "deletable": true,
    "editable": true
   },
   "outputs": [],
   "source": [
    "import pandas as pd"
   ]
  },
  {
   "cell_type": "markdown",
   "metadata": {},
   "source": [
    "## Import TSV\n",
    "\n",
    "Pandas makes this easy with the read_csv function. We are using a TSV, so we specify the separator as a tab, or `\\t`.\n",
    "\n",
    "I found it important to put this data in a tab-separated values format, because there are a lot of commas in this kind of data and comma-separated values can get messed up. However, you can modify the import statement, as pandas also has read_excel(), read_json(), and others."
   ]
  },
  {
   "cell_type": "code",
   "execution_count": 8,
   "metadata": {
    "collapsed": false,
    "deletable": true,
    "editable": true
   },
   "outputs": [
    {
     "data": {
      "text/html": [
       "<div>\n",
       "<style scoped>\n",
       "    .dataframe tbody tr th:only-of-type {\n",
       "        vertical-align: middle;\n",
       "    }\n",
       "\n",
       "    .dataframe tbody tr th {\n",
       "        vertical-align: top;\n",
       "    }\n",
       "\n",
       "    .dataframe thead th {\n",
       "        text-align: right;\n",
       "    }\n",
       "</style>\n",
       "<table border=\"1\" class=\"dataframe\">\n",
       "  <thead>\n",
       "    <tr style=\"text-align: right;\">\n",
       "      <th></th>\n",
       "      <th>pub_date</th>\n",
       "      <th>title</th>\n",
       "      <th>venue</th>\n",
       "      <th>excerpt</th>\n",
       "      <th>citation</th>\n",
       "      <th>url_slug</th>\n",
       "      <th>paper_url</th>\n",
       "      <th>slides_url</th>\n",
       "    </tr>\n",
       "  </thead>\n",
       "  <tbody>\n",
       "    <tr>\n",
       "      <th>0</th>\n",
       "      <td>2023-01-01</td>\n",
       "      <td>Sustained neural representations of personally...</td>\n",
       "      <td>Cortex</td>\n",
       "      <td>The recall and visualization of familiar peopl...</td>\n",
       "      <td>Corriveau, A., Kidder, A., Teichmann, L., Ward...</td>\n",
       "      <td>SustainedRepresentations</td>\n",
       "      <td>http://annacorriveau.github.io/files/Sustained...</td>\n",
       "      <td>NaN</td>\n",
       "    </tr>\n",
       "    <tr>\n",
       "      <th>1</th>\n",
       "      <td>2023-04-15</td>\n",
       "      <td>Functional connectome stability and optimality...</td>\n",
       "      <td>Cerebral Cortex</td>\n",
       "      <td>Whole-brain patterns of fMRI functional connec...</td>\n",
       "      <td>Corriveau, A., Yoo, K., Kwon, Y. H., Chun, M. ...</td>\n",
       "      <td>FCStability</td>\n",
       "      <td>http://annacorriveau.github.io/files/FCStabili...</td>\n",
       "      <td>NaN</td>\n",
       "    </tr>\n",
       "    <tr>\n",
       "      <th>2</th>\n",
       "      <td>2024-09-16</td>\n",
       "      <td>Recognition memory fluctuates with sustained a...</td>\n",
       "      <td>Psychonomic Bulletin &amp; Review</td>\n",
       "      <td>Fluctuations in sustained attention influence ...</td>\n",
       "      <td>Corriveau, A., Chao, A. F., deBettencourt, M. ...</td>\n",
       "      <td>RecognitionFlux</td>\n",
       "      <td>http://annacorriveau.github.io/files/Sustained...</td>\n",
       "      <td>NaN</td>\n",
       "    </tr>\n",
       "  </tbody>\n",
       "</table>\n",
       "</div>"
      ],
      "text/plain": [
       "     pub_date                                              title  \\\n",
       "0  2023-01-01  Sustained neural representations of personally...   \n",
       "1  2023-04-15  Functional connectome stability and optimality...   \n",
       "2  2024-09-16  Recognition memory fluctuates with sustained a...   \n",
       "\n",
       "                           venue  \\\n",
       "0                         Cortex   \n",
       "1                Cerebral Cortex   \n",
       "2  Psychonomic Bulletin & Review   \n",
       "\n",
       "                                             excerpt  \\\n",
       "0  The recall and visualization of familiar peopl...   \n",
       "1  Whole-brain patterns of fMRI functional connec...   \n",
       "2  Fluctuations in sustained attention influence ...   \n",
       "\n",
       "                                            citation  \\\n",
       "0  Corriveau, A., Kidder, A., Teichmann, L., Ward...   \n",
       "1  Corriveau, A., Yoo, K., Kwon, Y. H., Chun, M. ...   \n",
       "2  Corriveau, A., Chao, A. F., deBettencourt, M. ...   \n",
       "\n",
       "                   url_slug  \\\n",
       "0  SustainedRepresentations   \n",
       "1               FCStability   \n",
       "2           RecognitionFlux   \n",
       "\n",
       "                                           paper_url  slides_url  \n",
       "0  http://annacorriveau.github.io/files/Sustained...         NaN  \n",
       "1  http://annacorriveau.github.io/files/FCStabili...         NaN  \n",
       "2  http://annacorriveau.github.io/files/Sustained...         NaN  "
      ]
     },
     "execution_count": 8,
     "metadata": {},
     "output_type": "execute_result"
    }
   ],
   "source": [
    "publications = pd.read_csv(\"publications.csv\", sep=\",\", header=0)\n",
    "publications\n"
   ]
  },
  {
   "cell_type": "markdown",
   "metadata": {},
   "source": [
    "## Escape special characters\n",
    "\n",
    "YAML is very picky about how it takes a valid string, so we are replacing single and double quotes (and ampersands) with their HTML encoded equivilents. This makes them look not so readable in raw format, but they are parsed and rendered nicely."
   ]
  },
  {
   "cell_type": "code",
   "execution_count": 9,
   "metadata": {
    "collapsed": true,
    "deletable": true,
    "editable": true
   },
   "outputs": [],
   "source": [
    "html_escape_table = {\n",
    "    \"&\": \"&amp;\",\n",
    "    '\"': \"&quot;\",\n",
    "    \"'\": \"&apos;\"\n",
    "    }\n",
    "\n",
    "def html_escape(text):\n",
    "    \"\"\"Produce entities within text.\"\"\"\n",
    "    return \"\".join(html_escape_table.get(c,c) for c in text)"
   ]
  },
  {
   "cell_type": "markdown",
   "metadata": {},
   "source": [
    "## Creating the markdown files\n",
    "\n",
    "This is where the heavy lifting is done. This loops through all the rows in the TSV dataframe, then starts to concatentate a big string (```md```) that contains the markdown for each type. It does the YAML metadata first, then does the description for the individual page."
   ]
  },
  {
   "cell_type": "code",
   "execution_count": 10,
   "metadata": {
    "collapsed": false,
    "deletable": true,
    "editable": true
   },
   "outputs": [],
   "source": [
    "import os\n",
    "for row, item in publications.iterrows():\n",
    "    \n",
    "    md_filename = str(item.pub_date) + \"-\" + item.url_slug + \".md\"\n",
    "    html_filename = str(item.pub_date) + \"-\" + item.url_slug\n",
    "    year = item.pub_date[:4]\n",
    "    \n",
    "    ## YAML variables\n",
    "    \n",
    "    md = \"---\\ntitle: \\\"\"   + item.title + '\"\\n'\n",
    "    \n",
    "    md += \"\"\"collection: publications\"\"\"\n",
    "    \n",
    "    md += \"\"\"\\npermalink: /publication/\"\"\" + html_filename\n",
    "    \n",
    "    if len(str(item.excerpt)) > 5:\n",
    "        md += \"\\nexcerpt: '\" + html_escape(item.excerpt) + \"'\"\n",
    "    \n",
    "    md += \"\\ndate: \" + str(item.pub_date) \n",
    "    \n",
    "    md += \"\\nvenue: '\" + html_escape(item.venue) + \"'\"\n",
    "    \n",
    "    if len(str(item.slides_url)) > 5:\n",
    "        md += \"\\nslidesurl: '\" + item.slides_url + \"'\"\n",
    "\n",
    "    if len(str(item.paper_url)) > 5:\n",
    "        md += \"\\npaperurl: '\" + item.paper_url + \"'\"\n",
    "    \n",
    "    md += \"\\ncitation: '\" + html_escape(item.citation) + \"'\"\n",
    "    \n",
    "    md += \"\\n---\"\n",
    "    \n",
    "    ## Markdown description for individual page\n",
    "        \n",
    "    if len(str(item.excerpt)) > 5:\n",
    "        md += \"\\n\" + html_escape(item.excerpt) + \"\\n\"\n",
    "\n",
    "    if len(str(item.slides_url)) > 5:\n",
    "        md += \"\\n[Download slides here](\" + item.slides_url + \")\\n\" \n",
    "\n",
    "    if len(str(item.paper_url)) > 5:\n",
    "        md += \"\\n[Download paper here](\" + item.paper_url + \")\\n\" \n",
    "        \n",
    "    md += \"\\nRecommended citation: \" + item.citation\n",
    "    \n",
    "    md_filename = os.path.basename(md_filename)\n",
    "       \n",
    "    with open(\"../_publications/\" + md_filename, 'w') as f:\n",
    "        f.write(md)"
   ]
  },
  {
   "cell_type": "markdown",
   "metadata": {},
   "source": [
    "These files are in the publications directory, one directory below where we're working from."
   ]
  },
  {
   "cell_type": "code",
   "execution_count": 11,
   "metadata": {
    "collapsed": false,
    "deletable": true,
    "editable": true
   },
   "outputs": [
    {
     "name": "stdout",
     "output_type": "stream",
     "text": [
      "2023-01-01-SustainedRepresentations.md 2024-02-17-paper-title-number-4.md\n",
      "2023-04-15-FCStability.md              2024-09-16-RecognitionFlux.md\n"
     ]
    }
   ],
   "source": [
    "!ls ../_publications/"
   ]
  },
  {
   "cell_type": "code",
   "execution_count": 12,
   "metadata": {
    "collapsed": false,
    "deletable": true,
    "editable": true
   },
   "outputs": [
    {
     "name": "stdout",
     "output_type": "stream",
     "text": [
      "cat: ../_publications/2009-10-01-paper-title-number-1.md: No such file or directory\n"
     ]
    }
   ],
   "source": [
    "!cat ../_publications/2009-10-01-paper-title-number-1.md"
   ]
  },
  {
   "cell_type": "code",
   "execution_count": null,
   "metadata": {
    "collapsed": true,
    "deletable": true,
    "editable": true
   },
   "outputs": [],
   "source": []
  }
 ],
 "metadata": {
  "kernelspec": {
   "display_name": "AVA_AC",
   "language": "python",
   "name": "python3"
  },
  "language_info": {
   "codemirror_mode": {
    "name": "ipython",
    "version": 3
   },
   "file_extension": ".py",
   "mimetype": "text/x-python",
   "name": "python",
   "nbconvert_exporter": "python",
   "pygments_lexer": "ipython3",
   "version": "3.10.0"
  }
 },
 "nbformat": 4,
 "nbformat_minor": 0
}
